{
 "cells": [
  {
   "attachments": {},
   "cell_type": "markdown",
   "id": "28e0119a-c33c-4018-ab8a-676dedd97b9b",
   "metadata": {},
   "source": [
    "## CI Components LinkML to GraphML Converter\n",
    "Hard coded converter to move the CI Components Catalog to GraphML. Nodes and relationships are created and can be read in by Neo4j.  \n",
    "\n",
    "### Next Steps and Alternatives\n",
    " - This code does no validation, it expects the users to first validate with linkml and then run this\n",
    " - This code could be generalizable, but it will be a chore. User would have to read linkml schema, get relationships, creates nodes as usual, and then with dynamic relationship information, create relationships.\n",
    "     - I would say if generalization is the goal, creating Pydantic models based off the linkml schema, validating, and creating nodes/relationships is probably the way to go. No entity or component can actually be named, it's all dynamic so that throws in some curveballs.\n",
    " - Building off of others, there is this code that can use the schema and data to output to an RDF/OWL formated TURTLE file. It requires annotations however, and I'm not quite sure how it works, I couldn't get it to work so I'm not sure if the annotations are optional or not even.\n",
    "     - Neo4j can ingest OWL/RDF files, not sure how formatting will work though.\n",
    "     - https://linkml.io/linkml-owl/usage/\n"
   ]
  },
  {
   "cell_type": "code",
   "execution_count": null,
   "id": "e8646834-2a8f-4eef-b652-876a8394f2d8",
   "metadata": {},
   "outputs": [],
   "source": [
    "# Data url and linkml schema url\n",
    "data_url = \"https://raw.githubusercontent.com/ICICLE-ai/CI-Components-Catalog/master/components-data.yaml\"\n",
    "schema_url = \"https://raw.githubusercontent.com/ICICLE-ai/CI-Components-Catalog/master/ci-component.yaml\""
   ]
  },
  {
   "cell_type": "code",
   "execution_count": 13,
   "id": "f8fe9ec0-9d5d-4b3c-97aa-b9084f52928c",
   "metadata": {},
   "outputs": [
    {
     "name": "stdout",
     "output_type": "stream",
     "text": [
      "Loaded URL.\n",
      "Loaded URL.\n",
      "\n",
      "\n",
      "\n",
      "node#1: {'id': 'TapisBase', 'owner': 'Joe Stubbs', 'primaryThrust': 'core/Software', 'name': 'Base ICICLE Tapis Software', 'status': 'ProductionRelease', 'website': 'tapis-project.org', 'description': 'Hosted, web-based API for managing data and executing software for research computing', 'componentVersion': '1.3.0', 'targetIcicleRelease': 'VC3', 'licenseUrl': 'https://github.com/tapis-project/tapis-shared-java/blob/prod/LICENSE', 'publicAccess': True}\n",
      "\n",
      "\n",
      "\n",
      "node#2: {'id': 'EventEngine', 'owner': 'Joe Stubbs', 'name': 'Event Engine', 'status': 'AlphaRelease', 'primaryThrust': 'core/Software', 'description': 'Framework for edge simulators and applications', 'componentVersion': '0.2.0', 'targetIcicleRelease': 'VC3', 'licenseUrl': 'https://github.com/tapis-project/event-engine/blob/main/LICENSE', 'publicAccess': True}\n",
      "\n",
      "\n",
      "\n",
      "node#3: {'id': 'CameraTrapsEdgeSim', 'owner': 'Rich Cardone', 'name': 'Camera Traps Edge Simulator', 'primaryThrust': 'useInspired/AE', 'status': 'PrototypeRelease', 'website': '', 'description': 'Command-line program for analyzing edge-to-center tradeoffs within the Camera Traps project', 'targetIcicleRelease': 'VC3', 'componentVersion': 'Unknown', 'licenseUrl': 'https://github.com/tapis-project/camera-traps/blob/main/LICENSE', 'publicAccess': True}\n",
      "\n",
      "relation: (node#3 -> node#1) relationship=DependsOn\n",
      "\n",
      "relation: (node#3 -> node#2) relationship=DependsOn\n",
      "\n",
      "\n",
      "\n",
      "node#4: {'id': 'PodsService', 'owner': 'Christian Garcia', 'name': 'Tapis Pods Service API', 'primaryThrust': 'core/Software', 'status': 'BetaRelease', 'website': 'https://tapis.readthedocs.io/en/latest/technical/pods.html', 'description': 'New API providing web-accessible long-lived containers (pods) as-a-service via Kubernetes. Providing WAN-accessible Neo4J, Postgres, and custom-image HTTP pods with a simple API. More templates on the way.', 'targetIcicleRelease': 'VC3', 'publicAccess': True, 'componentVersion': '1.3.0', 'licenseUrl': 'https://github.com/tapis-project/pods_service/blob/prod/LICENSE'}\n",
      "\n",
      "relation: (node#4 -> node#1) relationship=DependsOn\n",
      "\n",
      "\n",
      "\n",
      "node#5: {'id': 'KrogerStoreClosure', 'owner': 'Ayaz Hyder', 'name': 'Kroger Grocery Store Closure Simulator Dashboard', 'primaryThrust': 'useInspired/SF', 'description': 'Webapp meant to visualize foodshed fallout from the removal of grocery stores in an area.', 'status': 'AlphaRelease', 'targetIcicleRelease': 'VC3', 'publicAccess': False, 'componentVersion': 'Unknown', 'licenseUrl': 'Unknown'}\n",
      "\n",
      "\n",
      "\n",
      "node#6: {'id': 'VAReusableGUI', 'owner': 'Yamei Tu', 'name': 'Visual Analytics Reusable GUI', 'primaryThrust': 'core/VA', 'description': 'Vue.js 2 webapp that displays Neo4j knowledge graphs with features such as filtering, searching, and drawn selections to provide users a way to read KGs.', 'status': 'AlphaRelease', 'targetIcicleRelease': 'VC3', 'publicAccess': False, 'componentVersion': 'Unknown', 'licenseUrl': 'Unknown'}\n",
      "\n",
      "relation: (node#6 -> node#4) relationship=DependsOn\n",
      "\n",
      "\n",
      "\n",
      "node#7: {'id': 'SFVADashboard', 'owner': 'Matthew Lange', 'name': 'Smart Foodsheds VA Dashboard', 'primaryThrust': 'useInspired/SF', 'description': 'Visualizse food flows or something...', 'status': 'AlphaRelease', 'targetIcicleRelease': 'VC3', 'publicAccess': False, 'componentVersion': 'Unknown', 'licenseUrl': 'Unknown'}\n",
      "\n",
      "relation: (node#7 -> node#6) relationship=DependsOn\n",
      "\n",
      "\n",
      "\n",
      "node#8: {'id': 'ComponentCatalog', 'owner': 'Joe Stubbs', 'name': 'ICICLE CI Component Catalog', 'primaryThrust': 'core/Software', 'description': 'Database and dashboard for discovering ICICLE projects and products.', 'status': 'AlphaRelease', 'targetIcicleRelease': 'VC3', 'publicAccess': True, 'componentVersion': 'Unknown', 'licenseUrl': 'Unknown'}\n",
      "\n",
      "relation: (node#8 -> node#6) relationship=DependsOn\n",
      "\n",
      "\n",
      "\n",
      "node#9: {'id': 'HARP', 'owner': 'Swathi Vallabhajosyula', 'name': 'HPC Application Runtime Predictor (HARP)', 'primaryThrust': 'core/AI4CI', 'description': 'Pipeline for predicting application (specifically, ML) runtimes', 'status': 'AlphaRelease', 'targetIcicleRelease': 'VC3', 'publicAccess': False, 'componentVersion': 'Unknown', 'licenseUrl': 'Unknown'}\n",
      "\n",
      "\n",
      "\n",
      "node#10: {'id': 'testComponent', 'owner': 'Joe Stubbs', 'name': 'Test ICICLE Component', 'primaryThrust': 'core/Software', 'description': 'A test component for testing the catalog app -- not real', 'status': 'PrototypeRelease', 'targetIcicleRelease': 'VC3', 'publicAccess': False, 'componentVersion': 'Unknown', 'licenseUrl': 'Unknown', 'restrictedToRole': 'catalog_testComponent'}\n"
     ]
    }
   ],
   "source": [
    "# We parse through the linkml data and create networkx nodes and edges to create a working networkx model.\n",
    "# Once we have that model we can export to graphml. Neo4j is able to read graphml using the apoc plugin.\n",
    "import networkx as nx\n",
    "import yaml\n",
    "import requests\n",
    "\n",
    "\n",
    "# Taken from Yamei's code, grabs from github or uses file based on github attr.\n",
    "def loadYAML(url, github):\n",
    "    if github:\n",
    "        r = requests.get(url)\n",
    "        data_linkml = yaml.safe_load(r.content)\n",
    "        print(\"Loaded URL.\")\n",
    "    else:\n",
    "        with open(url, \"r\") as stream:\n",
    "            data_linkml = yaml.safe_load(stream)\n",
    "    return data_linkml \n",
    "\n",
    "github = True\n",
    "schema = loadYAML(schema_url, github)\n",
    "data = loadYAML(data_url, github)\n",
    "\n",
    "G = nx.Graph()\n",
    "\n",
    "# Node ids have to be referenced to make relationships and to create nodes. So we keep reference of node_id here.\n",
    "# When we want to define a relationship between two nodes, we use node_id and second_node_id, doing a quick search\n",
    "# through all classes to find a matching field.\n",
    "# In this case, we hardcode 'components', 'hasDependentComponents', 'related_to', 'relationship_type', and 'id'.\n",
    "node_id = 1\n",
    "for component in data['components']:\n",
    "    # We add in node_id so that I can search for nodes later and refer to node_id. node_id is not added to the nodes, only used by me in this script.\n",
    "    component['node_id'] = node_id\n",
    "    component_vars = component.copy()\n",
    "    del component_vars['node_id']\n",
    "    relationships = component_vars.pop(\"hasDependentComponents\", [])\n",
    "    ## Create node with all vars we have minus `node_id` and relationships, in this case `hasDependentComponents`.\n",
    "    for key, value in component_vars.items():\n",
    "        if value == None:\n",
    "            component_vars[key] = \"\"\n",
    "    \n",
    "    G.add_node(node_id, **component_vars)\n",
    "    print(f\"\\n\\n\\nnode#{node_id}: {component_vars}\")\n",
    "    \n",
    "    ## Get relationship second_node_id\n",
    "    for relationship in relationships:\n",
    "        related_to = relationship['related_to']\n",
    "        relationship_type = relationship['relationship_type']\n",
    "\n",
    "        # Find node_id of component so we can link node \"A\" and second_node_id.\n",
    "        second_node_id = None\n",
    "        for item in data['components']:\n",
    "            if item.get('node_id', None):\n",
    "                if related_to == item['id']:\n",
    "                    second_node_id = item['node_id']\n",
    "                    break\n",
    "        if not second_node_id:\n",
    "            raise KeyError(f\"Could not find item containing id referenced by relationship. Breaking. related_to: {related_to}, node: {node_id}\")\n",
    "        \n",
    "        ## Create edge between node_id and second_node_id\n",
    "        # This is a small example, but type could determine directionality\n",
    "        if relationship_type == 'DependsOn':\n",
    "            G.add_edge(node_id, second_node_id, relationship=relationship_type)\n",
    "            print(f\"\\nrelation: (node#{node_id} -> node#{second_node_id}) relationship={relationship_type}\")\n",
    "    \n",
    "    node_id += 1"
   ]
  },
  {
   "cell_type": "code",
   "execution_count": 56,
   "id": "e7a6fc3b-a33d-4250-aa05-4c9c1803d32d",
   "metadata": {},
   "outputs": [],
   "source": [
    "# We dump to graphml\n",
    "nx.write_graphml(G, \"temp.graphml\")\n",
    "# After that, copy and paste to github, we'll use the raw github url for neo4j ingest"
   ]
  },
  {
   "cell_type": "code",
   "execution_count": null,
   "id": "38b24deb-7525-4b44-a495-283bc54da277",
   "metadata": {},
   "outputs": [],
   "source": [
    "# Initialize Neo4j driver\n",
    "url = \"bolt+s://username.pods.icicle.tapis.io:443\"\n",
    "user = \"username\"\n",
    "passw = \"password\"\n",
    "from neo4j import GraphDatabase\n",
    "neo = GraphDatabase.driver(url,\n",
    "                           auth = (user, passw),\n",
    "                           max_connection_lifetime=30)"
   ]
  },
  {
   "cell_type": "code",
   "execution_count": null,
   "id": "43e42c04-7772-4d92-a2a4-52189cd9d957",
   "metadata": {},
   "outputs": [
    {
     "name": "stdout",
     "output_type": "stream",
     "text": [
      "hello\n",
      "<neo4j.work.result.Result object at 0x7fe8f80c4bb0>\n",
      "Number of nodes in the database: <Record file='https://raw.githubusercontent.com/tapis-project/pods_service/prod/temp.ttl' source='file' format='graphml' nodes=10 relationships=6 properties=110 time=572 rows=0 batchSize=-1 batches=0 done=True data=None>\n"
     ]
    }
   ],
   "source": [
    "# Use apoc plugin to import graphml from a github url (That you should specify after saving the `nx.write_graphml()` result from earlier remotely).\n",
    "with neo.session() as session:\n",
    "    result = session.run('CALL apoc.import.graphml(\"https://raw.githubusercontent.com/tapis-project/pods_service/prod/file.graphml\", {})')\n",
    "    print(result)"
   ]
  }
 ],
 "metadata": {
  "kernelspec": {
   "display_name": "Python 3 (ipykernel)",
   "language": "python",
   "name": "python3"
  },
  "language_info": {
   "codemirror_mode": {
    "name": "ipython",
    "version": 3
   },
   "file_extension": ".py",
   "mimetype": "text/x-python",
   "name": "python",
   "nbconvert_exporter": "python",
   "pygments_lexer": "ipython3",
   "version": "3.8.10"
  }
 },
 "nbformat": 4,
 "nbformat_minor": 5
}
